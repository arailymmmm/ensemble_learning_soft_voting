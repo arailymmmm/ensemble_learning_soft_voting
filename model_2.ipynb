{
  "cells": [
    {
      "cell_type": "code",
      "execution_count": null,
      "id": "9e3dbf4b",
      "metadata": {
        "_cell_guid": "b1076dfc-b9ad-4769-8c92-a6c4dae69d19",
        "_uuid": "8f2839f25d086af736a60e9eeb907d3b93b6e0e5",
        "papermill": {
          "duration": 4.948232,
          "end_time": "2023-02-15T21:22:18.266583",
          "exception": false,
          "start_time": "2023-02-15T21:22:13.318351",
          "status": "completed"
        },
        "tags": [],
        "id": "9e3dbf4b"
      },
      "outputs": [],
      "source": [
        "import tensorflow as tf\n",
        "from tqdm import tqdm\n",
        "import numpy as np\n",
        "from tensorflow import keras\n",
        "import pandas as pd\n",
        "from itertools import combinations\n",
        "from tqdm import tqdm\n",
        "from keras import backend as K"
      ]
    },
    {
      "cell_type": "code",
      "execution_count": null,
      "id": "5488bfb7-c8d6-404e-a275-43b42eaaf0ef",
      "metadata": {
        "id": "5488bfb7-c8d6-404e-a275-43b42eaaf0ef"
      },
      "outputs": [],
      "source": [
        "one_hot = tf.keras.layers.CategoryEncoding(num_tokens=5, output_mode=\"one_hot\")\n",
        "\n",
        "def precision(y_true, y_pred):\n",
        "\n",
        "    y_true = one_hot(y_true)\n",
        "    true_positives = K.sum(K.round(K.clip(y_true * y_pred, 0, 1)))\n",
        "    predicted_positives = K.sum(K.round(K.clip(y_pred, 0, 1)))\n",
        "    precision = true_positives / (predicted_positives + K.epsilon())\n",
        "    return precision\n",
        "\n",
        "def recall(y_true, y_pred):\n",
        "\n",
        "    y_true = one_hot(y_true)\n",
        "    true_positives = K.sum(K.round(K.clip(y_true * y_pred, 0, 1)))\n",
        "    possible_positives = K.sum(K.round(K.clip(y_true, 0, 1)))\n",
        "    recall = true_positives / (possible_positives + K.epsilon())\n",
        "    return recall\n",
        "\n",
        "\n",
        "def f1(y_true, y_pred):\n",
        "    prec = precision(y_true, y_pred)\n",
        "    rec = recall(y_true, y_pred)\n",
        "    return 2*((prec*rec)/(prec+rec+K.epsilon()))"
      ]
    },
    {
      "cell_type": "code",
      "execution_count": null,
      "id": "5dc50ed2",
      "metadata": {
        "papermill": {
          "duration": 6.177916,
          "end_time": "2023-02-15T21:22:24.447536",
          "exception": false,
          "start_time": "2023-02-15T21:22:18.269620",
          "status": "completed"
        },
        "tags": [],
        "id": "5dc50ed2",
        "outputId": "e0ca7e1d-412e-4241-823f-11d4d11e942e"
      },
      "outputs": [
        {
          "name": "stdout",
          "output_type": "stream",
          "text": [
            "Found 5250 files belonging to 5 classes.\n",
            "Found 1150 files belonging to 5 classes.\n",
            "Found 1125 files belonging to 5 classes.\n"
          ]
        }
      ],
      "source": [
        "validation_dir = '../5-7500-a/validation'\n",
        "\n",
        "test_dir = '../5-7500-a/test'\n",
        "\n",
        "train_dir = '../5-7500-a/train'\n",
        "\n",
        "BATCH_SIZE = 32\n",
        "IMG_SIZE = (224, 224)\n",
        "\n",
        "\n",
        "train_dataset = tf.keras.utils.image_dataset_from_directory(train_dir,\n",
        "                                                            shuffle=True,\n",
        "                                                            batch_size=BATCH_SIZE,\n",
        "                                                            image_size=IMG_SIZE)\n",
        "validation_dataset = tf.keras.utils.image_dataset_from_directory(validation_dir,\n",
        "                                                                 shuffle=True,\n",
        "                                                                 batch_size=BATCH_SIZE,\n",
        "                                                                 image_size=IMG_SIZE)\n",
        "test_dataset = tf.keras.utils.image_dataset_from_directory(test_dir,\n",
        "                                                                 shuffle=True,\n",
        "                                                                 batch_size=BATCH_SIZE,\n",
        "                                                                 image_size=IMG_SIZE)\n",
        "\n",
        "AUTOTUNE = tf.data.AUTOTUNE\n",
        "\n",
        "train_dataset = train_dataset.prefetch(buffer_size=AUTOTUNE)\n",
        "validation_dataset = validation_dataset.prefetch(buffer_size=AUTOTUNE)\n",
        "test_dataset = test_dataset.prefetch(buffer_size=AUTOTUNE)"
      ]
    },
    {
      "cell_type": "code",
      "execution_count": null,
      "id": "ab37dd1d",
      "metadata": {
        "papermill": {
          "duration": 22.337528,
          "end_time": "2023-02-15T21:22:46.841155",
          "exception": false,
          "start_time": "2023-02-15T21:22:24.503627",
          "status": "completed"
        },
        "tags": [],
        "id": "ab37dd1d"
      },
      "outputs": [],
      "source": [
        "Xception = tf.keras.models.load_model('./xception.h5')\n",
        "DenseNet121 = tf.keras.models.load_model('./densenet121.h5')\n",
        "VGG16 = tf.keras.models.load_model('./vgg16.h5')\n",
        "ResNet50V2 = tf.keras.models.load_model('./resnet_v2.h5')\n",
        "InceptionResNetV2 = tf.keras.models.load_model('./inception.h5')\n",
        "MobileNetV2 = tf.keras.models.load_model('./mobilenet.h5')\n",
        "EfficientNetB0 = tf.keras.models.load_model('./efficientnet.h5')\n",
        "\n",
        "Xception._name=\"Xception\"\n",
        "DenseNet121._name=\"DenseNet121\"\n",
        "VGG16._name=\"VGG16\"\n",
        "ResNet50V2._name = \"ResNet50V2\"\n",
        "InceptionResNetV2._name = \"InceptionResNetV2\"\n",
        "MobileNetV2._name = \"MobileNetV2\"\n",
        "EfficientNetB0._name = \"EfficientNetB0\""
      ]
    },
    {
      "cell_type": "code",
      "execution_count": null,
      "id": "80ef2869",
      "metadata": {
        "papermill": {
          "duration": 0.013668,
          "end_time": "2023-02-15T21:22:46.858532",
          "exception": false,
          "start_time": "2023-02-15T21:22:46.844864",
          "status": "completed"
        },
        "tags": [],
        "id": "80ef2869"
      },
      "outputs": [],
      "source": [
        "def create_ansamble(models):\n",
        "    inputs = tf.keras.Input(shape=(224, 224, 3))\n",
        "\n",
        "    models_outputs = []\n",
        "    for model in models:\n",
        "        models_outputs.append(model(inputs))\n",
        "    if len(models_outputs) > 1:\n",
        "        outputs = tf.keras.layers.Average()(models_outputs)\n",
        "    else:\n",
        "        outputs = models_outputs[0]\n",
        "    ansamble = keras.Model(inputs=inputs, outputs=outputs)\n",
        "\n",
        "    base_learning_rate = 0.001\n",
        "    ansamble.compile(optimizer=tf.keras.optimizers.Adam(learning_rate=base_learning_rate),\n",
        "                  loss=tf.keras.losses.sparse_categorical_crossentropy,\n",
        "                  metrics=['accuracy', precision, recall, f1])\n",
        "    return ansamble"
      ]
    },
    {
      "cell_type": "code",
      "execution_count": null,
      "id": "fb42f971",
      "metadata": {
        "papermill": {
          "duration": 0.011426,
          "end_time": "2023-02-15T21:22:46.872615",
          "exception": false,
          "start_time": "2023-02-15T21:22:46.861189",
          "status": "completed"
        },
        "tags": [],
        "id": "fb42f971"
      },
      "outputs": [],
      "source": [
        "models = {'Xception': Xception, 'DenseNet121': DenseNet121, 'VGG16': VGG16, 'ResNet50V2': ResNet50V2, 'InceptionResNetV2': InceptionResNetV2,\n",
        "          'MobileNetV2': MobileNetV2, 'EfficientNetB0': EfficientNetB0}\n",
        "\n",
        "all_combs = []\n",
        "for i in range(1, len(models)):\n",
        "    all_combs.extend(list(combinations(models, i)))\n",
        "\n",
        "ansambles = {}\n",
        "for comb in all_combs:\n",
        "    ansambles['-'.join(comb)] = comb"
      ]
    },
    {
      "cell_type": "code",
      "execution_count": null,
      "id": "78fcde1c-8a0c-4245-b927-5e6db14709e0",
      "metadata": {
        "id": "78fcde1c-8a0c-4245-b927-5e6db14709e0",
        "outputId": "4854ba77-222c-4f42-b5b5-5b9e20221a37"
      },
      "outputs": [
        {
          "name": "stdout",
          "output_type": "stream",
          "text": [
            "All combinations: 126\n"
          ]
        }
      ],
      "source": [
        "print(\"All combinations: {}\".format(len(ansambles)))"
      ]
    },
    {
      "cell_type": "code",
      "execution_count": null,
      "id": "46e2fd75",
      "metadata": {
        "papermill": {
          "duration": 20451.19719,
          "end_time": "2023-02-16T03:03:38.072364",
          "exception": false,
          "start_time": "2023-02-15T21:22:46.875174",
          "status": "completed"
        },
        "tags": [],
        "id": "46e2fd75",
        "outputId": "8f8cab74-6aeb-4ed4-b58f-1cb537cbb837"
      },
      "outputs": [
        {
          "name": "stderr",
          "output_type": "stream",
          "text": [
            "0it [00:00, ?it/s]"
          ]
        },
        {
          "name": "stdout",
          "output_type": "stream",
          "text": [
            "36/36 [==============================] - 54s 1s/step - loss: 0.2491 - accuracy: 0.9351 - precision: 0.9425 - recall: 0.9314 - f1: 0.9368\n",
            "36/36 [==============================] - 43s 921ms/step - loss: 0.3785 - accuracy: 0.8617 - precision: 0.8734 - recall: 0.8496 - f1: 0.8612\n"
          ]
        },
        {
          "name": "stderr",
          "output_type": "stream",
          "text": [
            "1it [01:37, 97.52s/it]"
          ]
        },
        {
          "name": "stdout",
          "output_type": "stream",
          "text": [
            "36/36 [==============================] - 55s 1s/step - loss: 0.3067 - accuracy: 0.8764 - precision: 0.8918 - recall: 0.8707 - f1: 0.8809\n",
            "36/36 [==============================] - 43s 907ms/step - loss: 0.2046 - accuracy: 0.9270 - precision: 0.9383 - recall: 0.9236 - f1: 0.9308\n"
          ]
        },
        {
          "name": "stderr",
          "output_type": "stream",
          "text": [
            "2it [03:16, 98.33s/it]"
          ]
        },
        {
          "name": "stdout",
          "output_type": "stream",
          "text": [
            "36/36 [==============================] - 52s 1s/step - loss: 0.4832 - accuracy: 0.8649 - precision: 0.8663 - recall: 0.8616 - f1: 0.8639\n",
            "36/36 [==============================] - 43s 910ms/step - loss: 0.4810 - accuracy: 0.9017 - precision: 0.9061 - recall: 0.8982 - f1: 0.9020\n"
          ]
        },
        {
          "name": "stderr",
          "output_type": "stream",
          "text": [
            "3it [04:51, 96.93s/it]"
          ]
        },
        {
          "name": "stdout",
          "output_type": "stream",
          "text": [
            "36/36 [==============================] - 53s 1s/step - loss: 0.4010 - accuracy: 0.8560 - precision: 0.8627 - recall: 0.8469 - f1: 0.8546\n",
            "36/36 [==============================] - 43s 898ms/step - loss: 0.2682 - accuracy: 0.9009 - precision: 0.9071 - recall: 0.8984 - f1: 0.9026\n"
          ]
        },
        {
          "name": "stderr",
          "output_type": "stream",
          "text": [
            "4it [06:28, 96.75s/it]"
          ]
        },
        {
          "name": "stdout",
          "output_type": "stream",
          "text": [
            "36/36 [==============================] - 60s 1s/step - loss: 0.5146 - accuracy: 0.8249 - precision: 0.8378 - recall: 0.8212 - f1: 0.8293\n",
            "36/36 [==============================] - 43s 911ms/step - loss: 0.3022 - accuracy: 0.9061 - precision: 0.9133 - recall: 0.8991 - f1: 0.9061\n"
          ]
        },
        {
          "name": "stderr",
          "output_type": "stream",
          "text": [
            "5it [08:13, 99.77s/it]"
          ]
        },
        {
          "name": "stdout",
          "output_type": "stream",
          "text": [
            "36/36 [==============================] - 55s 1s/step - loss: 0.1546 - accuracy: 0.9458 - precision: 0.9487 - recall: 0.9453 - f1: 0.9470\n",
            "36/36 [==============================] - 43s 892ms/step - loss: 0.2327 - accuracy: 0.9339 - precision: 0.9414 - recall: 0.9270 - f1: 0.9340\n"
          ]
        },
        {
          "name": "stderr",
          "output_type": "stream",
          "text": [
            "6it [09:51, 99.23s/it]"
          ]
        },
        {
          "name": "stdout",
          "output_type": "stream",
          "text": [
            "36/36 [==============================] - 63s 1s/step - loss: 0.2480 - accuracy: 0.9191 - precision: 0.9182 - recall: 0.9102 - f1: 0.9141\n",
            "36/36 [==============================] - 43s 921ms/step - loss: 0.2450 - accuracy: 0.9330 - precision: 0.9368 - recall: 0.9262 - f1: 0.9313\n"
          ]
        },
        {
          "name": "stderr",
          "output_type": "stream",
          "text": [
            "7it [11:38, 101.89s/it]"
          ]
        },
        {
          "name": "stdout",
          "output_type": "stream",
          "text": [
            "36/36 [==============================] - 59s 1s/step - loss: 0.2242 - accuracy: 0.9280 - precision: 0.9397 - recall: 0.9189 - f1: 0.9288\n",
            "36/36 [==============================] - 44s 925ms/step - loss: 0.2271 - accuracy: 0.9391 - precision: 0.9526 - recall: 0.9288 - f1: 0.9404\n"
          ]
        },
        {
          "name": "stderr",
          "output_type": "stream",
          "text": [
            "8it [13:22, 102.55s/it]"
          ]
        },
        {
          "name": "stdout",
          "output_type": "stream",
          "text": [
            "36/36 [==============================] - 54s 1s/step - loss: 0.2562 - accuracy: 0.9316 - precision: 0.9439 - recall: 0.9219 - f1: 0.9326\n",
            "36/36 [==============================] - 43s 904ms/step - loss: 0.2827 - accuracy: 0.9435 - precision: 0.9547 - recall: 0.9339 - f1: 0.9440\n"
          ]
        },
        {
          "name": "stderr",
          "output_type": "stream",
          "text": [
            "9it [14:59, 100.84s/it]"
          ]
        },
        {
          "name": "stdout",
          "output_type": "stream",
          "text": [
            "36/36 [==============================] - 56s 1s/step - loss: 0.2400 - accuracy: 0.9138 - precision: 0.9194 - recall: 0.9024 - f1: 0.9107\n",
            "36/36 [==============================] - 43s 902ms/step - loss: 0.2534 - accuracy: 0.9357 - precision: 0.9424 - recall: 0.9269 - f1: 0.9345\n"
          ]
        },
        {
          "name": "stderr",
          "output_type": "stream",
          "text": [
            "10it [16:39, 100.50s/it]"
          ]
        },
        {
          "name": "stdout",
          "output_type": "stream",
          "text": [
            "36/36 [==============================] - 64s 1s/step - loss: 0.2778 - accuracy: 0.8987 - precision: 0.9021 - recall: 0.8906 - f1: 0.8962\n",
            "36/36 [==============================] - 44s 920ms/step - loss: 0.2743 - accuracy: 0.9296 - precision: 0.9363 - recall: 0.9131 - f1: 0.9243\n"
          ]
        },
        {
          "name": "stderr",
          "output_type": "stream",
          "text": [
            "11it [18:29, 103.49s/it]"
          ]
        },
        {
          "name": "stdout",
          "output_type": "stream",
          "text": [
            "36/36 [==============================] - 55s 1s/step - loss: 0.1617 - accuracy: 0.9618 - precision: 0.9596 - recall: 0.9554 - f1: 0.9575\n",
            "36/36 [==============================] - 44s 923ms/step - loss: 0.2362 - accuracy: 0.9357 - precision: 0.9459 - recall: 0.9262 - f1: 0.9358\n"
          ]
        },
        {
          "name": "stderr",
          "output_type": "stream",
          "text": [
            "12it [20:10, 102.54s/it]"
          ]
        },
        {
          "name": "stdout",
          "output_type": "stream",
          "text": [
            "36/36 [==============================] - 57s 1s/step - loss: 0.2114 - accuracy: 0.9449 - precision: 0.9510 - recall: 0.9427 - f1: 0.9468\n",
            "36/36 [==============================] - 43s 907ms/step - loss: 0.2521 - accuracy: 0.9452 - precision: 0.9513 - recall: 0.9340 - f1: 0.9424\n"
          ]
        },
        {
          "name": "stderr",
          "output_type": "stream",
          "text": [
            "13it [21:51, 102.16s/it]"
          ]
        },
        {
          "name": "stdout",
          "output_type": "stream",
          "text": [
            "36/36 [==============================] - 57s 1s/step - loss: 0.2684 - accuracy: 0.8924 - precision: 0.9188 - recall: 0.8863 - f1: 0.9020\n",
            "36/36 [==============================] - 43s 906ms/step - loss: 0.2080 - accuracy: 0.9339 - precision: 0.9451 - recall: 0.9261 - f1: 0.9354\n"
          ]
        },
        {
          "name": "stderr",
          "output_type": "stream",
          "text": [
            "14it [23:34, 102.53s/it]"
          ]
        },
        {
          "name": "stdout",
          "output_type": "stream",
          "text": [
            "36/36 [==============================] - 58s 1s/step - loss: 0.2896 - accuracy: 0.8684 - precision: 0.8770 - recall: 0.8526 - f1: 0.8645\n",
            "36/36 [==============================] - 44s 923ms/step - loss: 0.2032 - accuracy: 0.9330 - precision: 0.9342 - recall: 0.9269 - f1: 0.9305\n"
          ]
        },
        {
          "name": "stderr",
          "output_type": "stream",
          "text": [
            "15it [25:17, 102.57s/it]"
          ]
        },
        {
          "name": "stdout",
          "output_type": "stream",
          "text": [
            "36/36 [==============================] - 63s 1s/step - loss: 0.3128 - accuracy: 0.8631 - precision: 0.8754 - recall: 0.8524 - f1: 0.8635\n",
            "36/36 [==============================] - 44s 928ms/step - loss: 0.2143 - accuracy: 0.9487 - precision: 0.9569 - recall: 0.9401 - f1: 0.9482\n"
          ]
        },
        {
          "name": "stderr",
          "output_type": "stream",
          "text": [
            "16it [27:07, 104.80s/it]"
          ]
        },
        {
          "name": "stdout",
          "output_type": "stream",
          "text": [
            "36/36 [==============================] - 58s 1s/step - loss: 0.1899 - accuracy: 0.9307 - precision: 0.9387 - recall: 0.9288 - f1: 0.9337\n",
            "36/36 [==============================] - 43s 909ms/step - loss: 0.1876 - accuracy: 0.9574 - precision: 0.9636 - recall: 0.9453 - f1: 0.9542\n"
          ]
        },
        {
          "name": "stderr",
          "output_type": "stream",
          "text": [
            "17it [28:49, 104.07s/it]"
          ]
        },
        {
          "name": "stdout",
          "output_type": "stream",
          "text": [
            "36/36 [==============================] - 61s 1s/step - loss: 0.2310 - accuracy: 0.9147 - precision: 0.9222 - recall: 0.9062 - f1: 0.9140\n",
            "36/36 [==============================] - 44s 921ms/step - loss: 0.1989 - accuracy: 0.9513 - precision: 0.9559 - recall: 0.9461 - f1: 0.9509\n"
          ]
        },
        {
          "name": "stderr",
          "output_type": "stream",
          "text": [
            "18it [30:36, 104.68s/it]"
          ]
        },
        {
          "name": "stdout",
          "output_type": "stream",
          "text": [
            "36/36 [==============================] - 53s 1s/step - loss: 0.2965 - accuracy: 0.8853 - precision: 0.9007 - recall: 0.8686 - f1: 0.8841\n",
            "36/36 [==============================] - 43s 898ms/step - loss: 0.2469 - accuracy: 0.9313 - precision: 0.9425 - recall: 0.9270 - f1: 0.9346\n"
          ]
        },
        {
          "name": "stderr",
          "output_type": "stream",
          "text": [
            "19it [32:12, 102.34s/it]"
          ]
        },
        {
          "name": "stdout",
          "output_type": "stream",
          "text": [
            "36/36 [==============================] - 59s 1s/step - loss: 0.3116 - accuracy: 0.8916 - precision: 0.9141 - recall: 0.8767 - f1: 0.8947\n",
            "36/36 [==============================] - 44s 938ms/step - loss: 0.2573 - accuracy: 0.9417 - precision: 0.9492 - recall: 0.9374 - f1: 0.9431\n"
          ]
        },
        {
          "name": "stderr",
          "output_type": "stream",
          "text": [
            "20it [33:57, 102.95s/it]"
          ]
        },
        {
          "name": "stdout",
          "output_type": "stream",
          "text": [
            "36/36 [==============================] - 53s 1s/step - loss: 0.1940 - accuracy: 0.9422 - precision: 0.9604 - recall: 0.9212 - f1: 0.9390\n",
            "36/36 [==============================] - 43s 906ms/step - loss: 0.2282 - accuracy: 0.9443 - precision: 0.9582 - recall: 0.9391 - f1: 0.9484\n"
          ]
        },
        {
          "name": "stderr",
          "output_type": "stream",
          "text": [
            "21it [35:34, 101.10s/it]"
          ]
        },
        {
          "name": "stdout",
          "output_type": "stream",
          "text": [
            "36/36 [==============================] - 56s 1s/step - loss: 0.2483 - accuracy: 0.9200 - precision: 0.9418 - recall: 0.9106 - f1: 0.9257\n",
            "36/36 [==============================] - 43s 899ms/step - loss: 0.2517 - accuracy: 0.9348 - precision: 0.9419 - recall: 0.9251 - f1: 0.9332\n"
          ]
        },
        {
          "name": "stderr",
          "output_type": "stream",
          "text": [
            "22it [37:13, 100.61s/it]"
          ]
        },
        {
          "name": "stdout",
          "output_type": "stream",
          "text": [
            "36/36 [==============================] - 62s 1s/step - loss: 0.3660 - accuracy: 0.8676 - precision: 0.8722 - recall: 0.8564 - f1: 0.8642\n",
            "36/36 [==============================] - 44s 934ms/step - loss: 0.2354 - accuracy: 0.9365 - precision: 0.9420 - recall: 0.9304 - f1: 0.9361\n"
          ]
        },
        {
          "name": "stderr",
          "output_type": "stream",
          "text": [
            "23it [39:01, 102.80s/it]"
          ]
        },
        {
          "name": "stdout",
          "output_type": "stream",
          "text": [
            "36/36 [==============================] - 57s 1s/step - loss: 0.1974 - accuracy: 0.9289 - precision: 0.9288 - recall: 0.9137 - f1: 0.9210\n",
            "36/36 [==============================] - 43s 901ms/step - loss: 0.2038 - accuracy: 0.9504 - precision: 0.9547 - recall: 0.9479 - f1: 0.9512\n"
          ]
        },
        {
          "name": "stderr",
          "output_type": "stream",
          "text": [
            "24it [40:41, 102.10s/it]"
          ]
        },
        {
          "name": "stdout",
          "output_type": "stream",
          "text": [
            "36/36 [==============================] - 57s 1s/step - loss: 0.2548 - accuracy: 0.9013 - precision: 0.9139 - recall: 0.8958 - f1: 0.9047\n",
            "36/36 [==============================] - 43s 909ms/step - loss: 0.2217 - accuracy: 0.9461 - precision: 0.9503 - recall: 0.9453 - f1: 0.9478\n"
          ]
        },
        {
          "name": "stderr",
          "output_type": "stream",
          "text": [
            "25it [42:23, 101.88s/it]"
          ]
        },
        {
          "name": "stdout",
          "output_type": "stream",
          "text": [
            "36/36 [==============================] - 61s 1s/step - loss: 0.2295 - accuracy: 0.9049 - precision: 0.9160 - recall: 0.9028 - f1: 0.9093\n",
            "36/36 [==============================] - 44s 911ms/step - loss: 0.2300 - accuracy: 0.9461 - precision: 0.9557 - recall: 0.9322 - f1: 0.9436\n"
          ]
        },
        {
          "name": "stderr",
          "output_type": "stream",
          "text": [
            "26it [44:09, 103.28s/it]"
          ]
        },
        {
          "name": "stdout",
          "output_type": "stream",
          "text": [
            "36/36 [==============================] - 63s 1s/step - loss: 0.2968 - accuracy: 0.8933 - precision: 0.9015 - recall: 0.8845 - f1: 0.8929\n",
            "36/36 [==============================] - 44s 942ms/step - loss: 0.2345 - accuracy: 0.9504 - precision: 0.9572 - recall: 0.9348 - f1: 0.9457\n"
          ]
        },
        {
          "name": "stderr",
          "output_type": "stream",
          "text": [
            "27it [45:59, 105.13s/it]"
          ]
        },
        {
          "name": "stdout",
          "output_type": "stream",
          "text": [
            "36/36 [==============================] - 58s 1s/step - loss: 0.1712 - accuracy: 0.9502 - precision: 0.9509 - recall: 0.9441 - f1: 0.9474\n",
            "36/36 [==============================] - 44s 911ms/step - loss: 0.2077 - accuracy: 0.9548 - precision: 0.9595 - recall: 0.9496 - f1: 0.9545\n"
          ]
        },
        {
          "name": "stderr",
          "output_type": "stream",
          "text": [
            "28it [47:42, 104.49s/it]"
          ]
        },
        {
          "name": "stdout",
          "output_type": "stream",
          "text": [
            "36/36 [==============================] - 59s 1s/step - loss: 0.2261 - accuracy: 0.9307 - precision: 0.9458 - recall: 0.9158 - f1: 0.9304\n",
            "36/36 [==============================] - 44s 936ms/step - loss: 0.2173 - accuracy: 0.9530 - precision: 0.9671 - recall: 0.9444 - f1: 0.9554\n"
          ]
        },
        {
          "name": "stderr",
          "output_type": "stream",
          "text": [
            "29it [49:26, 104.49s/it]"
          ]
        },
        {
          "name": "stdout",
          "output_type": "stream",
          "text": [
            "36/36 [==============================] - 60s 1s/step - loss: 0.2356 - accuracy: 0.9058 - precision: 0.9134 - recall: 0.8993 - f1: 0.9062\n",
            "36/36 [==============================] - 44s 932ms/step - loss: 0.2150 - accuracy: 0.9435 - precision: 0.9507 - recall: 0.9391 - f1: 0.9447\n"
          ]
        },
        {
          "name": "stderr",
          "output_type": "stream",
          "text": [
            "30it [51:12, 104.94s/it]"
          ]
        },
        {
          "name": "stdout",
          "output_type": "stream",
          "text": [
            "36/36 [==============================] - 67s 1s/step - loss: 0.2532 - accuracy: 0.9147 - precision: 0.9174 - recall: 0.9010 - f1: 0.9089\n",
            "36/36 [==============================] - 44s 932ms/step - loss: 0.2246 - accuracy: 0.9496 - precision: 0.9549 - recall: 0.9382 - f1: 0.9463\n"
          ]
        },
        {
          "name": "stderr",
          "output_type": "stream",
          "text": [
            "31it [53:06, 107.67s/it]"
          ]
        },
        {
          "name": "stdout",
          "output_type": "stream",
          "text": [
            "36/36 [==============================] - 62s 1s/step - loss: 0.1815 - accuracy: 0.9493 - precision: 0.9544 - recall: 0.9453 - f1: 0.9498\n",
            "36/36 [==============================] - 44s 925ms/step - loss: 0.2038 - accuracy: 0.9557 - precision: 0.9619 - recall: 0.9434 - f1: 0.9524\n"
          ]
        },
        {
          "name": "stderr",
          "output_type": "stream",
          "text": [
            "32it [54:54, 107.66s/it]"
          ]
        },
        {
          "name": "stdout",
          "output_type": "stream",
          "text": [
            "36/36 [==============================] - 61s 1s/step - loss: 0.2100 - accuracy: 0.9431 - precision: 0.9428 - recall: 0.9345 - f1: 0.9386\n",
            "36/36 [==============================] - 44s 935ms/step - loss: 0.2139 - accuracy: 0.9557 - precision: 0.9602 - recall: 0.9521 - f1: 0.9560\n"
          ]
        },
        {
          "name": "stderr",
          "output_type": "stream",
          "text": [
            "33it [56:42, 107.65s/it]"
          ]
        },
        {
          "name": "stdout",
          "output_type": "stream",
          "text": [
            "36/36 [==============================] - 57s 1s/step - loss: 0.2400 - accuracy: 0.9307 - precision: 0.9404 - recall: 0.9175 - f1: 0.9286\n",
            "36/36 [==============================] - 44s 936ms/step - loss: 0.2407 - accuracy: 0.9513 - precision: 0.9594 - recall: 0.9399 - f1: 0.9493\n"
          ]
        },
        {
          "name": "stderr",
          "output_type": "stream",
          "text": [
            "34it [58:23, 105.86s/it]"
          ]
        },
        {
          "name": "stdout",
          "output_type": "stream",
          "text": [
            "36/36 [==============================] - 62s 1s/step - loss: 0.2591 - accuracy: 0.9387 - precision: 0.9526 - recall: 0.9262 - f1: 0.9390\n",
            "36/36 [==============================] - 44s 928ms/step - loss: 0.2476 - accuracy: 0.9496 - precision: 0.9590 - recall: 0.9366 - f1: 0.9474\n"
          ]
        },
        {
          "name": "stderr",
          "output_type": "stream",
          "text": [
            "35it [1:00:11, 106.43s/it]"
          ]
        },
        {
          "name": "stdout",
          "output_type": "stream",
          "text": [
            "36/36 [==============================] - 57s 1s/step - loss: 0.1806 - accuracy: 0.9591 - precision: 0.9659 - recall: 0.9458 - f1: 0.9556\n",
            "36/36 [==============================] - 44s 931ms/step - loss: 0.2219 - accuracy: 0.9530 - precision: 0.9669 - recall: 0.9453 - f1: 0.9557\n"
          ]
        },
        {
          "name": "stderr",
          "output_type": "stream",
          "text": [
            "36it [1:01:53, 105.03s/it]"
          ]
        },
        {
          "name": "stdout",
          "output_type": "stream",
          "text": [
            "36/36 [==============================] - 58s 1s/step - loss: 0.2222 - accuracy: 0.9582 - precision: 0.9653 - recall: 0.9436 - f1: 0.9541\n",
            "36/36 [==============================] - 43s 924ms/step - loss: 0.2421 - accuracy: 0.9504 - precision: 0.9637 - recall: 0.9436 - f1: 0.9534\n"
          ]
        },
        {
          "name": "stderr",
          "output_type": "stream",
          "text": [
            "37it [1:03:36, 104.45s/it]"
          ]
        },
        {
          "name": "stdout",
          "output_type": "stream",
          "text": [
            "36/36 [==============================] - 63s 1s/step - loss: 0.2668 - accuracy: 0.9049 - precision: 0.9128 - recall: 0.8976 - f1: 0.9050\n",
            "36/36 [==============================] - 44s 945ms/step - loss: 0.2394 - accuracy: 0.9417 - precision: 0.9486 - recall: 0.9313 - f1: 0.9397\n"
          ]
        },
        {
          "name": "stderr",
          "output_type": "stream",
          "text": [
            "38it [1:05:27, 106.57s/it]"
          ]
        },
        {
          "name": "stdout",
          "output_type": "stream",
          "text": [
            "36/36 [==============================] - 58s 1s/step - loss: 0.1850 - accuracy: 0.9431 - precision: 0.9515 - recall: 0.9375 - f1: 0.9443\n",
            "36/36 [==============================] - 43s 913ms/step - loss: 0.2144 - accuracy: 0.9496 - precision: 0.9551 - recall: 0.9417 - f1: 0.9483\n"
          ]
        },
        {
          "name": "stderr",
          "output_type": "stream",
          "text": [
            "39it [1:07:10, 105.31s/it]"
          ]
        },
        {
          "name": "stdout",
          "output_type": "stream",
          "text": [
            "36/36 [==============================] - 59s 1s/step - loss: 0.2208 - accuracy: 0.9360 - precision: 0.9406 - recall: 0.9262 - f1: 0.9333\n",
            "36/36 [==============================] - 44s 927ms/step - loss: 0.2294 - accuracy: 0.9522 - precision: 0.9535 - recall: 0.9443 - f1: 0.9488\n"
          ]
        },
        {
          "name": "stderr",
          "output_type": "stream",
          "text": [
            "40it [1:08:54, 105.03s/it]"
          ]
        },
        {
          "name": "stdout",
          "output_type": "stream",
          "text": [
            "36/36 [==============================] - 63s 1s/step - loss: 0.2072 - accuracy: 0.9396 - precision: 0.9482 - recall: 0.9366 - f1: 0.9423\n",
            "36/36 [==============================] - 44s 945ms/step - loss: 0.2305 - accuracy: 0.9452 - precision: 0.9513 - recall: 0.9340 - f1: 0.9424\n"
          ]
        },
        {
          "name": "stderr",
          "output_type": "stream",
          "text": [
            "41it [1:10:44, 106.54s/it]"
          ]
        },
        {
          "name": "stdout",
          "output_type": "stream",
          "text": [
            "36/36 [==============================] - 64s 1s/step - loss: 0.2444 - accuracy: 0.9262 - precision: 0.9311 - recall: 0.9184 - f1: 0.9246\n",
            "36/36 [==============================] - 44s 939ms/step - loss: 0.2391 - accuracy: 0.9530 - precision: 0.9562 - recall: 0.9487 - f1: 0.9523\n"
          ]
        },
        {
          "name": "stderr",
          "output_type": "stream",
          "text": [
            "42it [1:12:37, 108.45s/it]"
          ]
        },
        {
          "name": "stdout",
          "output_type": "stream",
          "text": [
            "36/36 [==============================] - 59s 1s/step - loss: 0.1711 - accuracy: 0.9618 - precision: 0.9629 - recall: 0.9519 - f1: 0.9573\n",
            "36/36 [==============================] - 43s 918ms/step - loss: 0.2160 - accuracy: 0.9548 - precision: 0.9587 - recall: 0.9479 - f1: 0.9532\n"
          ]
        },
        {
          "name": "stderr",
          "output_type": "stream",
          "text": [
            "43it [1:14:22, 107.24s/it]"
          ]
        },
        {
          "name": "stdout",
          "output_type": "stream",
          "text": [
            "36/36 [==============================] - 59s 1s/step - loss: 0.2631 - accuracy: 0.8907 - precision: 0.9035 - recall: 0.8773 - f1: 0.8899\n",
            "36/36 [==============================] - 44s 935ms/step - loss: 0.2043 - accuracy: 0.9435 - precision: 0.9532 - recall: 0.9338 - f1: 0.9433\n"
          ]
        },
        {
          "name": "stderr",
          "output_type": "stream",
          "text": [
            "44it [1:16:07, 106.59s/it]"
          ]
        },
        {
          "name": "stdout",
          "output_type": "stream",
          "text": [
            "36/36 [==============================] - 66s 1s/step - loss: 0.2737 - accuracy: 0.8951 - precision: 0.9148 - recall: 0.8872 - f1: 0.9005\n",
            "36/36 [==============================] - 45s 962ms/step - loss: 0.2115 - accuracy: 0.9487 - precision: 0.9608 - recall: 0.9416 - f1: 0.9510\n"
          ]
        },
        {
          "name": "stderr",
          "output_type": "stream",
          "text": [
            "45it [1:18:00, 108.73s/it]"
          ]
        },
        {
          "name": "stdout",
          "output_type": "stream",
          "text": [
            "36/36 [==============================] - 59s 1s/step - loss: 0.1998 - accuracy: 0.9342 - precision: 0.9443 - recall: 0.9167 - f1: 0.9300\n",
            "36/36 [==============================] - 45s 953ms/step - loss: 0.1924 - accuracy: 0.9557 - precision: 0.9671 - recall: 0.9469 - f1: 0.9568\n"
          ]
        },
        {
          "name": "stderr",
          "output_type": "stream",
          "text": [
            "46it [1:19:52, 109.76s/it]"
          ]
        },
        {
          "name": "stdout",
          "output_type": "stream",
          "text": [
            "36/36 [==============================] - 62s 1s/step - loss: 0.2273 - accuracy: 0.9209 - precision: 0.9401 - recall: 0.9080 - f1: 0.9235\n",
            "36/36 [==============================] - 44s 931ms/step - loss: 0.2058 - accuracy: 0.9504 - precision: 0.9558 - recall: 0.9374 - f1: 0.9464\n"
          ]
        },
        {
          "name": "stderr",
          "output_type": "stream",
          "text": [
            "47it [1:21:41, 109.30s/it]"
          ]
        },
        {
          "name": "stdout",
          "output_type": "stream",
          "text": [
            "36/36 [==============================] - 67s 1s/step - loss: 0.2989 - accuracy: 0.8702 - precision: 0.8768 - recall: 0.8616 - f1: 0.8691\n",
            "36/36 [==============================] - 44s 939ms/step - loss: 0.2081 - accuracy: 0.9391 - precision: 0.9429 - recall: 0.9332 - f1: 0.9379\n"
          ]
        },
        {
          "name": "stderr",
          "output_type": "stream",
          "text": [
            "48it [1:23:35, 110.90s/it]"
          ]
        },
        {
          "name": "stdout",
          "output_type": "stream",
          "text": [
            "36/36 [==============================] - 61s 1s/step - loss: 0.2100 - accuracy: 0.9173 - precision: 0.9198 - recall: 0.9062 - f1: 0.9129\n",
            "36/36 [==============================] - 46s 974ms/step - loss: 0.1886 - accuracy: 0.9504 - precision: 0.9541 - recall: 0.9427 - f1: 0.9482\n"
          ]
        },
        {
          "name": "stderr",
          "output_type": "stream",
          "text": [
            "49it [1:25:24, 110.25s/it]"
          ]
        },
        {
          "name": "stdout",
          "output_type": "stream",
          "text": [
            "36/36 [==============================] - 63s 1s/step - loss: 0.2423 - accuracy: 0.8924 - precision: 0.9041 - recall: 0.8842 - f1: 0.8937\n",
            "36/36 [==============================] - 44s 925ms/step - loss: 0.1995 - accuracy: 0.9522 - precision: 0.9545 - recall: 0.9453 - f1: 0.9498\n"
          ]
        },
        {
          "name": "stderr",
          "output_type": "stream",
          "text": [
            "50it [1:27:21, 112.16s/it]"
          ]
        },
        {
          "name": "stdout",
          "output_type": "stream",
          "text": [
            "36/36 [==============================] - 67s 1s/step - loss: 0.2295 - accuracy: 0.9271 - precision: 0.9329 - recall: 0.9158 - f1: 0.9241\n",
            "36/36 [==============================] - 44s 925ms/step - loss: 0.2010 - accuracy: 0.9539 - precision: 0.9603 - recall: 0.9444 - f1: 0.9522\n"
          ]
        },
        {
          "name": "stderr",
          "output_type": "stream",
          "text": [
            "51it [1:29:14, 112.64s/it]"
          ]
        },
        {
          "name": "stdout",
          "output_type": "stream",
          "text": [
            "36/36 [==============================] - 68s 1s/step - loss: 0.2656 - accuracy: 0.9067 - precision: 0.9084 - recall: 0.8920 - f1: 0.9000\n",
            "36/36 [==============================] - 43s 912ms/step - loss: 0.2081 - accuracy: 0.9548 - precision: 0.9625 - recall: 0.9467 - f1: 0.9544\n"
          ]
        },
        {
          "name": "stderr",
          "output_type": "stream",
          "text": [
            "52it [1:31:09, 113.31s/it]"
          ]
        },
        {
          "name": "stdout",
          "output_type": "stream",
          "text": [
            "36/36 [==============================] - 61s 1s/step - loss: 0.1867 - accuracy: 0.9404 - precision: 0.9456 - recall: 0.9349 - f1: 0.9401\n",
            "36/36 [==============================] - 44s 926ms/step - loss: 0.1890 - accuracy: 0.9565 - precision: 0.9646 - recall: 0.9505 - f1: 0.9573\n"
          ]
        },
        {
          "name": "stderr",
          "output_type": "stream",
          "text": [
            "53it [1:33:00, 112.48s/it]"
          ]
        },
        {
          "name": "stdout",
          "output_type": "stream",
          "text": [
            "36/36 [==============================] - 62s 1s/step - loss: 0.2918 - accuracy: 0.8916 - precision: 0.9089 - recall: 0.8811 - f1: 0.8945\n",
            "36/36 [==============================] - 45s 948ms/step - loss: 0.2308 - accuracy: 0.9496 - precision: 0.9586 - recall: 0.9460 - f1: 0.9521\n"
          ]
        },
        {
          "name": "stderr",
          "output_type": "stream",
          "text": [
            "54it [1:34:49, 111.49s/it]"
          ]
        },
        {
          "name": "stdout",
          "output_type": "stream",
          "text": [
            "36/36 [==============================] - 56s 1s/step - loss: 0.2064 - accuracy: 0.9360 - precision: 0.9491 - recall: 0.9219 - f1: 0.9351\n",
            "36/36 [==============================] - 45s 949ms/step - loss: 0.2085 - accuracy: 0.9504 - precision: 0.9595 - recall: 0.9451 - f1: 0.9521\n"
          ]
        },
        {
          "name": "stderr",
          "output_type": "stream",
          "text": [
            "55it [1:36:31, 108.65s/it]"
          ]
        },
        {
          "name": "stdout",
          "output_type": "stream",
          "text": [
            "36/36 [==============================] - 59s 1s/step - loss: 0.2417 - accuracy: 0.9191 - precision: 0.9249 - recall: 0.8951 - f1: 0.9094\n",
            "36/36 [==============================] - 44s 927ms/step - loss: 0.2268 - accuracy: 0.9443 - precision: 0.9481 - recall: 0.9391 - f1: 0.9435\n"
          ]
        },
        {
          "name": "stderr",
          "output_type": "stream",
          "text": [
            "56it [1:38:15, 107.27s/it]"
          ]
        },
        {
          "name": "stdout",
          "output_type": "stream",
          "text": [
            "36/36 [==============================] - 63s 1s/step - loss: 0.2219 - accuracy: 0.9422 - precision: 0.9583 - recall: 0.9271 - f1: 0.9421\n",
            "36/36 [==============================] - 45s 941ms/step - loss: 0.2229 - accuracy: 0.9539 - precision: 0.9645 - recall: 0.9435 - f1: 0.9536\n"
          ]
        },
        {
          "name": "stderr",
          "output_type": "stream",
          "text": [
            "57it [1:40:05, 107.96s/it]"
          ]
        },
        {
          "name": "stdout",
          "output_type": "stream",
          "text": [
            "36/36 [==============================] - 64s 1s/step - loss: 0.2596 - accuracy: 0.9129 - precision: 0.9269 - recall: 0.9054 - f1: 0.9158\n",
            "36/36 [==============================] - 44s 929ms/step - loss: 0.2323 - accuracy: 0.9496 - precision: 0.9549 - recall: 0.9434 - f1: 0.9490\n"
          ]
        },
        {
          "name": "stderr",
          "output_type": "stream",
          "text": [
            "58it [1:41:59, 109.77s/it]"
          ]
        },
        {
          "name": "stdout",
          "output_type": "stream",
          "text": [
            "36/36 [==============================] - 58s 1s/step - loss: 0.1890 - accuracy: 0.9636 - precision: 0.9716 - recall: 0.9505 - f1: 0.9608\n",
            "36/36 [==============================] - 43s 917ms/step - loss: 0.2120 - accuracy: 0.9513 - precision: 0.9601 - recall: 0.9443 - f1: 0.9520\n"
          ]
        },
        {
          "name": "stderr",
          "output_type": "stream",
          "text": [
            "59it [1:43:41, 107.67s/it]"
          ]
        },
        {
          "name": "stdout",
          "output_type": "stream",
          "text": [
            "36/36 [==============================] - 64s 1s/step - loss: 0.2352 - accuracy: 0.9084 - precision: 0.9192 - recall: 0.8984 - f1: 0.9085\n",
            "36/36 [==============================] - 44s 934ms/step - loss: 0.2114 - accuracy: 0.9513 - precision: 0.9584 - recall: 0.9408 - f1: 0.9493\n"
          ]
        },
        {
          "name": "stderr",
          "output_type": "stream",
          "text": [
            "60it [1:45:32, 108.55s/it]"
          ]
        },
        {
          "name": "stdout",
          "output_type": "stream",
          "text": [
            "36/36 [==============================] - 65s 1s/step - loss: 0.2853 - accuracy: 0.8996 - precision: 0.9100 - recall: 0.8967 - f1: 0.9032\n",
            "36/36 [==============================] - 45s 947ms/step - loss: 0.2226 - accuracy: 0.9530 - precision: 0.9541 - recall: 0.9451 - f1: 0.9496\n"
          ]
        },
        {
          "name": "stderr",
          "output_type": "stream",
          "text": [
            "61it [1:47:25, 109.90s/it]"
          ]
        },
        {
          "name": "stdout",
          "output_type": "stream",
          "text": [
            "36/36 [==============================] - 66s 1s/step - loss: 0.1934 - accuracy: 0.9351 - precision: 0.9445 - recall: 0.9280 - f1: 0.9360\n",
            "36/36 [==============================] - 43s 906ms/step - loss: 0.2005 - accuracy: 0.9513 - precision: 0.9594 - recall: 0.9469 - f1: 0.9530\n"
          ]
        },
        {
          "name": "stderr",
          "output_type": "stream",
          "text": [
            "62it [1:49:16, 110.25s/it]"
          ]
        },
        {
          "name": "stdout",
          "output_type": "stream",
          "text": [
            "36/36 [==============================] - 65s 1s/step - loss: 0.2150 - accuracy: 0.9191 - precision: 0.9245 - recall: 0.9085 - f1: 0.9163\n",
            "36/36 [==============================] - 44s 925ms/step - loss: 0.2126 - accuracy: 0.9565 - precision: 0.9605 - recall: 0.9497 - f1: 0.9550\n"
          ]
        },
        {
          "name": "stderr",
          "output_type": "stream",
          "text": [
            "63it [1:51:09, 110.97s/it]"
          ]
        },
        {
          "name": "stdout",
          "output_type": "stream",
          "text": [
            "36/36 [==============================] - 61s 1s/step - loss: 0.2321 - accuracy: 0.9191 - precision: 0.9339 - recall: 0.9062 - f1: 0.9197\n",
            "36/36 [==============================] - 45s 948ms/step - loss: 0.2114 - accuracy: 0.9513 - precision: 0.9640 - recall: 0.9461 - f1: 0.9548\n"
          ]
        },
        {
          "name": "stderr",
          "output_type": "stream",
          "text": [
            "64it [1:52:56, 109.87s/it]"
          ]
        },
        {
          "name": "stdout",
          "output_type": "stream",
          "text": [
            "36/36 [==============================] - 67s 1s/step - loss: 0.2433 - accuracy: 0.9289 - precision: 0.9438 - recall: 0.9115 - f1: 0.9269\n",
            "36/36 [==============================] - 45s 949ms/step - loss: 0.2175 - accuracy: 0.9557 - precision: 0.9646 - recall: 0.9496 - f1: 0.9569\n"
          ]
        },
        {
          "name": "stderr",
          "output_type": "stream",
          "text": [
            "65it [1:54:51, 111.26s/it]"
          ]
        },
        {
          "name": "stdout",
          "output_type": "stream",
          "text": [
            "36/36 [==============================] - 62s 1s/step - loss: 0.1898 - accuracy: 0.9493 - precision: 0.9620 - recall: 0.9418 - f1: 0.9516\n",
            "36/36 [==============================] - 44s 933ms/step - loss: 0.2008 - accuracy: 0.9548 - precision: 0.9706 - recall: 0.9488 - f1: 0.9594\n"
          ]
        },
        {
          "name": "stderr",
          "output_type": "stream",
          "text": [
            "66it [1:56:38, 110.15s/it]"
          ]
        },
        {
          "name": "stdout",
          "output_type": "stream",
          "text": [
            "36/36 [==============================] - 62s 1s/step - loss: 0.2133 - accuracy: 0.9493 - precision: 0.9608 - recall: 0.9323 - f1: 0.9461\n",
            "36/36 [==============================] - 44s 947ms/step - loss: 0.2120 - accuracy: 0.9548 - precision: 0.9664 - recall: 0.9487 - f1: 0.9573\n"
          ]
        },
        {
          "name": "stderr",
          "output_type": "stream",
          "text": [
            "67it [1:58:27, 109.67s/it]"
          ]
        },
        {
          "name": "stdout",
          "output_type": "stream",
          "text": [
            "36/36 [==============================] - 67s 1s/step - loss: 0.2551 - accuracy: 0.8951 - precision: 0.9102 - recall: 0.8906 - f1: 0.9001\n",
            "36/36 [==============================] - 45s 967ms/step - loss: 0.2158 - accuracy: 0.9496 - precision: 0.9556 - recall: 0.9391 - f1: 0.9471\n"
          ]
        },
        {
          "name": "stderr",
          "output_type": "stream",
          "text": [
            "68it [2:00:23, 111.58s/it]"
          ]
        },
        {
          "name": "stdout",
          "output_type": "stream",
          "text": [
            "36/36 [==============================] - 61s 1s/step - loss: 0.1964 - accuracy: 0.9324 - precision: 0.9416 - recall: 0.9253 - f1: 0.9333\n",
            "36/36 [==============================] - 44s 923ms/step - loss: 0.1994 - accuracy: 0.9496 - precision: 0.9593 - recall: 0.9417 - f1: 0.9503\n"
          ]
        },
        {
          "name": "stderr",
          "output_type": "stream",
          "text": [
            "69it [2:02:10, 110.26s/it]"
          ]
        },
        {
          "name": "stdout",
          "output_type": "stream",
          "text": [
            "36/36 [==============================] - 63s 1s/step - loss: 0.2205 - accuracy: 0.9209 - precision: 0.9278 - recall: 0.9094 - f1: 0.9184\n",
            "36/36 [==============================] - 44s 929ms/step - loss: 0.2088 - accuracy: 0.9530 - precision: 0.9554 - recall: 0.9488 - f1: 0.9520\n"
          ]
        },
        {
          "name": "stderr",
          "output_type": "stream",
          "text": [
            "70it [2:04:01, 110.60s/it]"
          ]
        },
        {
          "name": "stdout",
          "output_type": "stream",
          "text": [
            "36/36 [==============================] - 67s 1s/step - loss: 0.2120 - accuracy: 0.9422 - precision: 0.9471 - recall: 0.9349 - f1: 0.9409\n",
            "36/36 [==============================] - 44s 951ms/step - loss: 0.2086 - accuracy: 0.9496 - precision: 0.9593 - recall: 0.9443 - f1: 0.9517\n"
          ]
        },
        {
          "name": "stderr",
          "output_type": "stream",
          "text": [
            "71it [2:05:56, 111.75s/it]"
          ]
        },
        {
          "name": "stdout",
          "output_type": "stream",
          "text": [
            "36/36 [==============================] - 70s 1s/step - loss: 0.2368 - accuracy: 0.9209 - precision: 0.9294 - recall: 0.9167 - f1: 0.9229\n",
            "36/36 [==============================] - 45s 951ms/step - loss: 0.2160 - accuracy: 0.9583 - precision: 0.9649 - recall: 0.9539 - f1: 0.9593\n"
          ]
        },
        {
          "name": "stderr",
          "output_type": "stream",
          "text": [
            "72it [2:07:54, 113.73s/it]"
          ]
        },
        {
          "name": "stdout",
          "output_type": "stream",
          "text": [
            "36/36 [==============================] - 63s 1s/step - loss: 0.1825 - accuracy: 0.9547 - precision: 0.9622 - recall: 0.9514 - f1: 0.9567\n",
            "36/36 [==============================] - 44s 931ms/step - loss: 0.1995 - accuracy: 0.9574 - precision: 0.9646 - recall: 0.9513 - f1: 0.9578\n"
          ]
        },
        {
          "name": "stderr",
          "output_type": "stream",
          "text": [
            "73it [2:09:44, 112.50s/it]"
          ]
        },
        {
          "name": "stdout",
          "output_type": "stream",
          "text": [
            "36/36 [==============================] - 64s 1s/step - loss: 0.2546 - accuracy: 0.9138 - precision: 0.9318 - recall: 0.9028 - f1: 0.9168\n",
            "36/36 [==============================] - 45s 956ms/step - loss: 0.2319 - accuracy: 0.9539 - precision: 0.9638 - recall: 0.9461 - f1: 0.9547\n"
          ]
        },
        {
          "name": "stderr",
          "output_type": "stream",
          "text": [
            "74it [2:11:35, 112.17s/it]"
          ]
        },
        {
          "name": "stdout",
          "output_type": "stream",
          "text": [
            "36/36 [==============================] - 58s 1s/step - loss: 0.1938 - accuracy: 0.9502 - precision: 0.9626 - recall: 0.9363 - f1: 0.9488\n",
            "36/36 [==============================] - 43s 915ms/step - loss: 0.2112 - accuracy: 0.9539 - precision: 0.9682 - recall: 0.9478 - f1: 0.9577\n"
          ]
        },
        {
          "name": "stderr",
          "output_type": "stream",
          "text": [
            "75it [2:13:18, 109.37s/it]"
          ]
        },
        {
          "name": "stdout",
          "output_type": "stream",
          "text": [
            "36/36 [==============================] - 61s 1s/step - loss: 0.2227 - accuracy: 0.9422 - precision: 0.9496 - recall: 0.9259 - f1: 0.9374\n",
            "36/36 [==============================] - 45s 942ms/step - loss: 0.2269 - accuracy: 0.9548 - precision: 0.9621 - recall: 0.9504 - f1: 0.9562\n"
          ]
        },
        {
          "name": "stderr",
          "output_type": "stream",
          "text": [
            "76it [2:15:05, 108.69s/it]"
          ]
        },
        {
          "name": "stdout",
          "output_type": "stream",
          "text": [
            "36/36 [==============================] - 65s 1s/step - loss: 0.2074 - accuracy: 0.9556 - precision: 0.9632 - recall: 0.9427 - f1: 0.9527\n",
            "36/36 [==============================] - 45s 958ms/step - loss: 0.2207 - accuracy: 0.9539 - precision: 0.9670 - recall: 0.9451 - f1: 0.9558\n"
          ]
        },
        {
          "name": "stderr",
          "output_type": "stream",
          "text": [
            "77it [2:16:58, 110.03s/it]"
          ]
        },
        {
          "name": "stdout",
          "output_type": "stream",
          "text": [
            "36/36 [==============================] - 66s 1s/step - loss: 0.2375 - accuracy: 0.9413 - precision: 0.9505 - recall: 0.9323 - f1: 0.9411\n",
            "36/36 [==============================] - 45s 955ms/step - loss: 0.2319 - accuracy: 0.9557 - precision: 0.9664 - recall: 0.9513 - f1: 0.9587\n"
          ]
        },
        {
          "name": "stderr",
          "output_type": "stream",
          "text": [
            "78it [2:18:53, 111.28s/it]"
          ]
        },
        {
          "name": "stdout",
          "output_type": "stream",
          "text": [
            "36/36 [==============================] - 59s 1s/step - loss: 0.1831 - accuracy: 0.9636 - precision: 0.9693 - recall: 0.9575 - f1: 0.9633\n",
            "36/36 [==============================] - 44s 932ms/step - loss: 0.2124 - accuracy: 0.9583 - precision: 0.9673 - recall: 0.9504 - f1: 0.9587\n"
          ]
        },
        {
          "name": "stderr",
          "output_type": "stream",
          "text": [
            "79it [2:20:38, 109.46s/it]"
          ]
        },
        {
          "name": "stdout",
          "output_type": "stream",
          "text": [
            "36/36 [==============================] - 65s 1s/step - loss: 0.2149 - accuracy: 0.9298 - precision: 0.9370 - recall: 0.9146 - f1: 0.9252\n",
            "36/36 [==============================] - 45s 957ms/step - loss: 0.2163 - accuracy: 0.9548 - precision: 0.9593 - recall: 0.9426 - f1: 0.9507\n"
          ]
        },
        {
          "name": "stderr",
          "output_type": "stream",
          "text": [
            "80it [2:22:30, 110.43s/it]"
          ]
        },
        {
          "name": "stdout",
          "output_type": "stream",
          "text": [
            "36/36 [==============================] - 68s 1s/step - loss: 0.2461 - accuracy: 0.9182 - precision: 0.9283 - recall: 0.9115 - f1: 0.9196\n",
            "36/36 [==============================] - 44s 954ms/step - loss: 0.2269 - accuracy: 0.9574 - precision: 0.9603 - recall: 0.9477 - f1: 0.9538\n"
          ]
        },
        {
          "name": "stderr",
          "output_type": "stream",
          "text": [
            "81it [2:24:26, 112.09s/it]"
          ]
        },
        {
          "name": "stdout",
          "output_type": "stream",
          "text": [
            "36/36 [==============================] - 61s 1s/step - loss: 0.1867 - accuracy: 0.9476 - precision: 0.9543 - recall: 0.9436 - f1: 0.9489\n",
            "36/36 [==============================] - 45s 952ms/step - loss: 0.2074 - accuracy: 0.9574 - precision: 0.9622 - recall: 0.9513 - f1: 0.9567\n"
          ]
        },
        {
          "name": "stderr",
          "output_type": "stream",
          "text": [
            "82it [2:26:14, 110.69s/it]"
          ]
        },
        {
          "name": "stdout",
          "output_type": "stream",
          "text": [
            "36/36 [==============================] - 67s 1s/step - loss: 0.2030 - accuracy: 0.9413 - precision: 0.9460 - recall: 0.9311 - f1: 0.9383\n",
            "36/36 [==============================] - 44s 931ms/step - loss: 0.2167 - accuracy: 0.9522 - precision: 0.9586 - recall: 0.9479 - f1: 0.9531\n"
          ]
        },
        {
          "name": "stderr",
          "output_type": "stream",
          "text": [
            "83it [2:28:08, 111.62s/it]"
          ]
        },
        {
          "name": "stdout",
          "output_type": "stream",
          "text": [
            "36/36 [==============================] - 68s 1s/step - loss: 0.2715 - accuracy: 0.8907 - precision: 0.8940 - recall: 0.8674 - f1: 0.8801\n",
            "36/36 [==============================] - 44s 941ms/step - loss: 0.2078 - accuracy: 0.9504 - precision: 0.9568 - recall: 0.9459 - f1: 0.9512\n"
          ]
        },
        {
          "name": "stderr",
          "output_type": "stream",
          "text": [
            "84it [2:30:03, 112.69s/it]"
          ]
        },
        {
          "name": "stdout",
          "output_type": "stream",
          "text": [
            "36/36 [==============================] - 60s 1s/step - loss: 0.2114 - accuracy: 0.9244 - precision: 0.9417 - recall: 0.9149 - f1: 0.9279\n",
            "36/36 [==============================] - 43s 923ms/step - loss: 0.1922 - accuracy: 0.9530 - precision: 0.9611 - recall: 0.9452 - f1: 0.9530\n"
          ]
        },
        {
          "name": "stderr",
          "output_type": "stream",
          "text": [
            "85it [2:31:48, 110.47s/it]"
          ]
        },
        {
          "name": "stdout",
          "output_type": "stream",
          "text": [
            "36/36 [==============================] - 61s 1s/step - loss: 0.2342 - accuracy: 0.9084 - precision: 0.9207 - recall: 0.8941 - f1: 0.9070\n",
            "36/36 [==============================] - 45s 944ms/step - loss: 0.2033 - accuracy: 0.9513 - precision: 0.9568 - recall: 0.9443 - f1: 0.9504\n"
          ]
        },
        {
          "name": "stderr",
          "output_type": "stream",
          "text": [
            "86it [2:33:36, 109.84s/it]"
          ]
        },
        {
          "name": "stdout",
          "output_type": "stream",
          "text": [
            "36/36 [==============================] - 66s 1s/step - loss: 0.2240 - accuracy: 0.9351 - precision: 0.9436 - recall: 0.9163 - f1: 0.9294\n",
            "36/36 [==============================] - 45s 951ms/step - loss: 0.2003 - accuracy: 0.9548 - precision: 0.9662 - recall: 0.9469 - f1: 0.9562\n"
          ]
        },
        {
          "name": "stderr",
          "output_type": "stream",
          "text": [
            "87it [2:35:30, 110.97s/it]"
          ]
        },
        {
          "name": "stdout",
          "output_type": "stream",
          "text": [
            "36/36 [==============================] - 69s 1s/step - loss: 0.2480 - accuracy: 0.9120 - precision: 0.9271 - recall: 0.9019 - f1: 0.9141\n",
            "36/36 [==============================] - 45s 940ms/step - loss: 0.2092 - accuracy: 0.9504 - precision: 0.9578 - recall: 0.9469 - f1: 0.9522\n"
          ]
        },
        {
          "name": "stderr",
          "output_type": "stream",
          "text": [
            "88it [2:37:27, 112.82s/it]"
          ]
        },
        {
          "name": "stdout",
          "output_type": "stream",
          "text": [
            "36/36 [==============================] - 64s 1s/step - loss: 0.1934 - accuracy: 0.9484 - precision: 0.9589 - recall: 0.9345 - f1: 0.9464\n",
            "36/36 [==============================] - 45s 954ms/step - loss: 0.1936 - accuracy: 0.9557 - precision: 0.9655 - recall: 0.9479 - f1: 0.9565\n"
          ]
        },
        {
          "name": "stderr",
          "output_type": "stream",
          "text": [
            "89it [2:39:20, 112.95s/it]"
          ]
        },
        {
          "name": "stdout",
          "output_type": "stream",
          "text": [
            "36/36 [==============================] - 70s 1s/step - loss: 0.2356 - accuracy: 0.9049 - precision: 0.9161 - recall: 0.8993 - f1: 0.9075\n",
            "36/36 [==============================] - 45s 956ms/step - loss: 0.1975 - accuracy: 0.9496 - precision: 0.9595 - recall: 0.9444 - f1: 0.9518\n"
          ]
        },
        {
          "name": "stderr",
          "output_type": "stream",
          "text": [
            "90it [2:41:19, 114.75s/it]"
          ]
        },
        {
          "name": "stdout",
          "output_type": "stream",
          "text": [
            "36/36 [==============================] - 75s 1s/step - loss: 0.2654 - accuracy: 0.8987 - precision: 0.9024 - recall: 0.8830 - f1: 0.8924\n",
            "36/36 [==============================] - 45s 966ms/step - loss: 0.2053 - accuracy: 0.9513 - precision: 0.9577 - recall: 0.9469 - f1: 0.9522\n"
          ]
        },
        {
          "name": "stderr",
          "output_type": "stream",
          "text": [
            "91it [2:43:25, 118.02s/it]"
          ]
        },
        {
          "name": "stdout",
          "output_type": "stream",
          "text": [
            "36/36 [==============================] - 83s 1s/step - loss: 0.2017 - accuracy: 0.9173 - precision: 0.9264 - recall: 0.9059 - f1: 0.9159\n",
            "36/36 [==============================] - 45s 941ms/step - loss: 0.1898 - accuracy: 0.9539 - precision: 0.9596 - recall: 0.9496 - f1: 0.9545\n"
          ]
        },
        {
          "name": "stderr",
          "output_type": "stream",
          "text": [
            "92it [2:45:37, 122.08s/it]"
          ]
        },
        {
          "name": "stdout",
          "output_type": "stream",
          "text": [
            "36/36 [==============================] - 73s 1s/step - loss: 0.2181 - accuracy: 0.9200 - precision: 0.9280 - recall: 0.9175 - f1: 0.9227\n",
            "36/36 [==============================] - 45s 955ms/step - loss: 0.1982 - accuracy: 0.9600 - precision: 0.9639 - recall: 0.9531 - f1: 0.9584\n"
          ]
        },
        {
          "name": "stderr",
          "output_type": "stream",
          "text": [
            "93it [2:47:40, 122.57s/it]"
          ]
        },
        {
          "name": "stdout",
          "output_type": "stream",
          "text": [
            "36/36 [==============================] - 66s 1s/step - loss: 0.2278 - accuracy: 0.9218 - precision: 0.9378 - recall: 0.9071 - f1: 0.9219\n",
            "36/36 [==============================] - 44s 936ms/step - loss: 0.2112 - accuracy: 0.9539 - precision: 0.9655 - recall: 0.9503 - f1: 0.9577\n"
          ]
        },
        {
          "name": "stderr",
          "output_type": "stream",
          "text": [
            "94it [2:49:33, 119.68s/it]"
          ]
        },
        {
          "name": "stdout",
          "output_type": "stream",
          "text": [
            "36/36 [==============================] - 67s 1s/step - loss: 0.2585 - accuracy: 0.9076 - precision: 0.9229 - recall: 0.8946 - f1: 0.9081\n",
            "36/36 [==============================] - 45s 959ms/step - loss: 0.2230 - accuracy: 0.9539 - precision: 0.9597 - recall: 0.9479 - f1: 0.9536\n"
          ]
        },
        {
          "name": "stderr",
          "output_type": "stream",
          "text": [
            "95it [2:51:28, 118.22s/it]"
          ]
        },
        {
          "name": "stdout",
          "output_type": "stream",
          "text": [
            "36/36 [==============================] - 60s 1s/step - loss: 0.1996 - accuracy: 0.9449 - precision: 0.9589 - recall: 0.9349 - f1: 0.9466\n",
            "36/36 [==============================] - 44s 931ms/step - loss: 0.2051 - accuracy: 0.9539 - precision: 0.9631 - recall: 0.9521 - f1: 0.9575\n"
          ]
        },
        {
          "name": "stderr",
          "output_type": "stream",
          "text": [
            "96it [2:53:24, 117.58s/it]"
          ]
        },
        {
          "name": "stdout",
          "output_type": "stream",
          "text": [
            "36/36 [==============================] - 67s 1s/step - loss: 0.2128 - accuracy: 0.9440 - precision: 0.9535 - recall: 0.9311 - f1: 0.9420\n",
            "36/36 [==============================] - 44s 929ms/step - loss: 0.2124 - accuracy: 0.9548 - precision: 0.9621 - recall: 0.9488 - f1: 0.9553\n"
          ]
        },
        {
          "name": "stderr",
          "output_type": "stream",
          "text": [
            "97it [2:55:19, 116.62s/it]"
          ]
        },
        {
          "name": "stdout",
          "output_type": "stream",
          "text": [
            "36/36 [==============================] - 67s 1s/step - loss: 0.2227 - accuracy: 0.9182 - precision: 0.9270 - recall: 0.9068 - f1: 0.9164\n",
            "36/36 [==============================] - 46s 972ms/step - loss: 0.2067 - accuracy: 0.9548 - precision: 0.9596 - recall: 0.9478 - f1: 0.9535\n"
          ]
        },
        {
          "name": "stderr",
          "output_type": "stream",
          "text": [
            "98it [2:57:15, 116.56s/it]"
          ]
        },
        {
          "name": "stdout",
          "output_type": "stream",
          "text": [
            "36/36 [==============================] - 80s 1s/step - loss: 0.2462 - accuracy: 0.9156 - precision: 0.9295 - recall: 0.9002 - f1: 0.9143\n",
            "36/36 [==============================] - 46s 970ms/step - loss: 0.2127 - accuracy: 0.9504 - precision: 0.9611 - recall: 0.9470 - f1: 0.9539\n"
          ]
        },
        {
          "name": "stderr",
          "output_type": "stream",
          "text": [
            "99it [2:59:25, 120.48s/it]"
          ]
        },
        {
          "name": "stdout",
          "output_type": "stream",
          "text": [
            "36/36 [==============================] - 63s 1s/step - loss: 0.2002 - accuracy: 0.9333 - precision: 0.9358 - recall: 0.9177 - f1: 0.9265\n",
            "36/36 [==============================] - 45s 951ms/step - loss: 0.1986 - accuracy: 0.9522 - precision: 0.9655 - recall: 0.9487 - f1: 0.9570\n"
          ]
        },
        {
          "name": "stderr",
          "output_type": "stream",
          "text": [
            "100it [3:01:14, 117.26s/it]"
          ]
        },
        {
          "name": "stdout",
          "output_type": "stream",
          "text": [
            "36/36 [==============================] - 67s 1s/step - loss: 0.2200 - accuracy: 0.9333 - precision: 0.9460 - recall: 0.9149 - f1: 0.9300\n",
            "36/36 [==============================] - 46s 976ms/step - loss: 0.2083 - accuracy: 0.9522 - precision: 0.9606 - recall: 0.9503 - f1: 0.9554\n"
          ]
        },
        {
          "name": "stderr",
          "output_type": "stream",
          "text": [
            "101it [3:03:09, 116.51s/it]"
          ]
        },
        {
          "name": "stdout",
          "output_type": "stream",
          "text": [
            "36/36 [==============================] - 71s 1s/step - loss: 0.2113 - accuracy: 0.9476 - precision: 0.9590 - recall: 0.9375 - f1: 0.9479\n",
            "36/36 [==============================] - 45s 962ms/step - loss: 0.2050 - accuracy: 0.9565 - precision: 0.9674 - recall: 0.9505 - f1: 0.9588\n"
          ]
        },
        {
          "name": "stderr",
          "output_type": "stream",
          "text": [
            "102it [3:05:09, 117.57s/it]"
          ]
        },
        {
          "name": "stdout",
          "output_type": "stream",
          "text": [
            "36/36 [==============================] - 81s 1s/step - loss: 0.2315 - accuracy: 0.9369 - precision: 0.9474 - recall: 0.9236 - f1: 0.9352\n",
            "36/36 [==============================] - 46s 984ms/step - loss: 0.2134 - accuracy: 0.9583 - precision: 0.9648 - recall: 0.9530 - f1: 0.9588\n"
          ]
        },
        {
          "name": "stderr",
          "output_type": "stream",
          "text": [
            "103it [3:07:21, 121.80s/it]"
          ]
        },
        {
          "name": "stdout",
          "output_type": "stream",
          "text": [
            "36/36 [==============================] - 65s 1s/step - loss: 0.1886 - accuracy: 0.9582 - precision: 0.9667 - recall: 0.9523 - f1: 0.9593\n",
            "36/36 [==============================] - 45s 954ms/step - loss: 0.1991 - accuracy: 0.9600 - precision: 0.9684 - recall: 0.9513 - f1: 0.9596\n"
          ]
        },
        {
          "name": "stderr",
          "output_type": "stream",
          "text": [
            "104it [3:09:13, 118.98s/it]"
          ]
        },
        {
          "name": "stdout",
          "output_type": "stream",
          "text": [
            "36/36 [==============================] - 73s 1s/step - loss: 0.2189 - accuracy: 0.9262 - precision: 0.9344 - recall: 0.9175 - f1: 0.9258\n",
            "36/36 [==============================] - 45s 968ms/step - loss: 0.2038 - accuracy: 0.9539 - precision: 0.9602 - recall: 0.9461 - f1: 0.9530\n"
          ]
        },
        {
          "name": "stderr",
          "output_type": "stream",
          "text": [
            "105it [3:11:16, 120.08s/it]"
          ]
        },
        {
          "name": "stdout",
          "output_type": "stream",
          "text": [
            "36/36 [==============================] - 74s 1s/step - loss: 0.2407 - accuracy: 0.9164 - precision: 0.9240 - recall: 0.9042 - f1: 0.9137\n",
            "36/36 [==============================] - 46s 972ms/step - loss: 0.2112 - accuracy: 0.9557 - precision: 0.9590 - recall: 0.9505 - f1: 0.9546\n"
          ]
        },
        {
          "name": "stderr",
          "output_type": "stream",
          "text": [
            "106it [3:13:20, 121.36s/it]"
          ]
        },
        {
          "name": "stdout",
          "output_type": "stream",
          "text": [
            "36/36 [==============================] - 66s 1s/step - loss: 0.1942 - accuracy: 0.9387 - precision: 0.9479 - recall: 0.9332 - f1: 0.9403\n",
            "36/36 [==============================] - 45s 956ms/step - loss: 0.1973 - accuracy: 0.9548 - precision: 0.9587 - recall: 0.9512 - f1: 0.9549\n"
          ]
        },
        {
          "name": "stderr",
          "output_type": "stream",
          "text": [
            "107it [3:15:25, 122.34s/it]"
          ]
        },
        {
          "name": "stdout",
          "output_type": "stream",
          "text": [
            "36/36 [==============================] - 72s 1s/step - loss: 0.2074 - accuracy: 0.9351 - precision: 0.9436 - recall: 0.9306 - f1: 0.9369\n",
            "36/36 [==============================] - 45s 955ms/step - loss: 0.2041 - accuracy: 0.9591 - precision: 0.9614 - recall: 0.9521 - f1: 0.9567\n"
          ]
        },
        {
          "name": "stderr",
          "output_type": "stream",
          "text": [
            "108it [3:17:26, 121.87s/it]"
          ]
        },
        {
          "name": "stdout",
          "output_type": "stream",
          "text": [
            "36/36 [==============================] - 66s 1s/step - loss: 0.2139 - accuracy: 0.9458 - precision: 0.9530 - recall: 0.9314 - f1: 0.9419\n",
            "36/36 [==============================] - 46s 972ms/step - loss: 0.2129 - accuracy: 0.9539 - precision: 0.9645 - recall: 0.9479 - f1: 0.9559\n"
          ]
        },
        {
          "name": "stderr",
          "output_type": "stream",
          "text": [
            "109it [3:19:21, 119.81s/it]"
          ]
        },
        {
          "name": "stdout",
          "output_type": "stream",
          "text": [
            "36/36 [==============================] - 71s 1s/step - loss: 0.2390 - accuracy: 0.9298 - precision: 0.9391 - recall: 0.9146 - f1: 0.9262\n",
            "36/36 [==============================] - 46s 977ms/step - loss: 0.2240 - accuracy: 0.9557 - precision: 0.9586 - recall: 0.9503 - f1: 0.9544\n"
          ]
        },
        {
          "name": "stderr",
          "output_type": "stream",
          "text": [
            "110it [3:21:21, 119.99s/it]"
          ]
        },
        {
          "name": "stdout",
          "output_type": "stream",
          "text": [
            "36/36 [==============================] - 62s 1s/step - loss: 0.1927 - accuracy: 0.9591 - precision: 0.9682 - recall: 0.9453 - f1: 0.9565\n",
            "36/36 [==============================] - 44s 936ms/step - loss: 0.2071 - accuracy: 0.9557 - precision: 0.9613 - recall: 0.9495 - f1: 0.9553\n"
          ]
        },
        {
          "name": "stderr",
          "output_type": "stream",
          "text": [
            "111it [3:23:10, 116.58s/it]"
          ]
        },
        {
          "name": "stdout",
          "output_type": "stream",
          "text": [
            "36/36 [==============================] - 68s 1s/step - loss: 0.2042 - accuracy: 0.9564 - precision: 0.9645 - recall: 0.9444 - f1: 0.9542\n",
            "36/36 [==============================] - 45s 971ms/step - loss: 0.2131 - accuracy: 0.9574 - precision: 0.9629 - recall: 0.9522 - f1: 0.9575\n"
          ]
        },
        {
          "name": "stderr",
          "output_type": "stream",
          "text": [
            "112it [3:25:06, 116.59s/it]"
          ]
        },
        {
          "name": "stdout",
          "output_type": "stream",
          "text": [
            "36/36 [==============================] - 70s 1s/step - loss: 0.2103 - accuracy: 0.9333 - precision: 0.9378 - recall: 0.9233 - f1: 0.9304\n",
            "36/36 [==============================] - 46s 968ms/step - loss: 0.2105 - accuracy: 0.9548 - precision: 0.9596 - recall: 0.9505 - f1: 0.9549\n"
          ]
        },
        {
          "name": "stderr",
          "output_type": "stream",
          "text": [
            "113it [3:27:05, 117.33s/it]"
          ]
        },
        {
          "name": "stdout",
          "output_type": "stream",
          "text": [
            "36/36 [==============================] - 78s 1s/step - loss: 0.2295 - accuracy: 0.9164 - precision: 0.9263 - recall: 0.9007 - f1: 0.9131\n",
            "36/36 [==============================] - 46s 967ms/step - loss: 0.1982 - accuracy: 0.9548 - precision: 0.9612 - recall: 0.9495 - f1: 0.9552\n"
          ]
        },
        {
          "name": "stderr",
          "output_type": "stream",
          "text": [
            "114it [3:29:13, 120.40s/it]"
          ]
        },
        {
          "name": "stdout",
          "output_type": "stream",
          "text": [
            "36/36 [==============================] - 71s 1s/step - loss: 0.2505 - accuracy: 0.9004 - precision: 0.9154 - recall: 0.8932 - f1: 0.9040\n",
            "36/36 [==============================] - 46s 995ms/step - loss: 0.2066 - accuracy: 0.9557 - precision: 0.9599 - recall: 0.9514 - f1: 0.9555\n"
          ]
        },
        {
          "name": "stderr",
          "output_type": "stream",
          "text": [
            "115it [3:31:14, 120.56s/it]"
          ]
        },
        {
          "name": "stdout",
          "output_type": "stream",
          "text": [
            "36/36 [==============================] - 65s 1s/step - loss: 0.2036 - accuracy: 0.9342 - precision: 0.9483 - recall: 0.9227 - f1: 0.9351\n",
            "36/36 [==============================] - 44s 939ms/step - loss: 0.1933 - accuracy: 0.9557 - precision: 0.9622 - recall: 0.9513 - f1: 0.9566\n"
          ]
        },
        {
          "name": "stderr",
          "output_type": "stream",
          "text": [
            "116it [3:33:06, 118.07s/it]"
          ]
        },
        {
          "name": "stdout",
          "output_type": "stream",
          "text": [
            "36/36 [==============================] - 73s 1s/step - loss: 0.2153 - accuracy: 0.9396 - precision: 0.9454 - recall: 0.9224 - f1: 0.9335\n",
            "36/36 [==============================] - 46s 974ms/step - loss: 0.1993 - accuracy: 0.9557 - precision: 0.9621 - recall: 0.9521 - f1: 0.9570\n"
          ]
        },
        {
          "name": "stderr",
          "output_type": "stream",
          "text": [
            "117it [3:35:09, 119.44s/it]"
          ]
        },
        {
          "name": "stdout",
          "output_type": "stream",
          "text": [
            "36/36 [==============================] - 78s 1s/step - loss: 0.2247 - accuracy: 0.9147 - precision: 0.9188 - recall: 0.9059 - f1: 0.9122\n",
            "36/36 [==============================] - 45s 956ms/step - loss: 0.1967 - accuracy: 0.9539 - precision: 0.9579 - recall: 0.9479 - f1: 0.9528\n"
          ]
        },
        {
          "name": "stderr",
          "output_type": "stream",
          "text": [
            "118it [3:37:16, 121.76s/it]"
          ]
        },
        {
          "name": "stdout",
          "output_type": "stream",
          "text": [
            "36/36 [==============================] - 68s 1s/step - loss: 0.2188 - accuracy: 0.9298 - precision: 0.9406 - recall: 0.9210 - f1: 0.9306\n",
            "36/36 [==============================] - 45s 964ms/step - loss: 0.2079 - accuracy: 0.9548 - precision: 0.9596 - recall: 0.9513 - f1: 0.9554\n"
          ]
        },
        {
          "name": "stderr",
          "output_type": "stream",
          "text": [
            "119it [3:39:12, 120.13s/it]"
          ]
        },
        {
          "name": "stdout",
          "output_type": "stream",
          "text": [
            "36/36 [==============================] - 71s 1s/step - loss: 0.2171 - accuracy: 0.9378 - precision: 0.9498 - recall: 0.9253 - f1: 0.9372\n",
            "36/36 [==============================] - 45s 957ms/step - loss: 0.2023 - accuracy: 0.9530 - precision: 0.9631 - recall: 0.9496 - f1: 0.9561\n"
          ]
        },
        {
          "name": "stderr",
          "output_type": "stream",
          "text": [
            "120it [3:41:12, 120.18s/it]"
          ]
        },
        {
          "name": "stdout",
          "output_type": "stream",
          "text": [
            "36/36 [==============================] - 76s 1s/step - loss: 0.2351 - accuracy: 0.9227 - precision: 0.9326 - recall: 0.9068 - f1: 0.9193\n",
            "36/36 [==============================] - 46s 977ms/step - loss: 0.2101 - accuracy: 0.9565 - precision: 0.9612 - recall: 0.9513 - f1: 0.9562\n"
          ]
        },
        {
          "name": "stderr",
          "output_type": "stream",
          "text": [
            "121it [3:43:18, 121.82s/it]"
          ]
        },
        {
          "name": "stdout",
          "output_type": "stream",
          "text": [
            "36/36 [==============================] - 66s 1s/step - loss: 0.1971 - accuracy: 0.9502 - precision: 0.9544 - recall: 0.9345 - f1: 0.9443\n",
            "36/36 [==============================] - 45s 952ms/step - loss: 0.1977 - accuracy: 0.9557 - precision: 0.9623 - recall: 0.9513 - f1: 0.9567\n"
          ]
        },
        {
          "name": "stderr",
          "output_type": "stream",
          "text": [
            "122it [3:45:12, 119.55s/it]"
          ]
        },
        {
          "name": "stdout",
          "output_type": "stream",
          "text": [
            "36/36 [==============================] - 73s 1s/step - loss: 0.2073 - accuracy: 0.9511 - precision: 0.9610 - recall: 0.9389 - f1: 0.9495\n",
            "36/36 [==============================] - 45s 962ms/step - loss: 0.2027 - accuracy: 0.9574 - precision: 0.9655 - recall: 0.9522 - f1: 0.9587\n"
          ]
        },
        {
          "name": "stderr",
          "output_type": "stream",
          "text": [
            "123it [3:47:15, 120.50s/it]"
          ]
        },
        {
          "name": "stdout",
          "output_type": "stream",
          "text": [
            "36/36 [==============================] - 76s 1s/step - loss: 0.2137 - accuracy: 0.9262 - precision: 0.9353 - recall: 0.9155 - f1: 0.9249\n",
            "36/36 [==============================] - 46s 972ms/step - loss: 0.2014 - accuracy: 0.9583 - precision: 0.9614 - recall: 0.9505 - f1: 0.9558\n"
          ]
        },
        {
          "name": "stderr",
          "output_type": "stream",
          "text": [
            "124it [3:49:21, 122.15s/it]"
          ]
        },
        {
          "name": "stdout",
          "output_type": "stream",
          "text": [
            "36/36 [==============================] - 68s 1s/step - loss: 0.2098 - accuracy: 0.9422 - precision: 0.9540 - recall: 0.9323 - f1: 0.9429\n",
            "36/36 [==============================] - 45s 955ms/step - loss: 0.2092 - accuracy: 0.9557 - precision: 0.9624 - recall: 0.9523 - f1: 0.9572\n"
          ]
        },
        {
          "name": "stderr",
          "output_type": "stream",
          "text": [
            "125it [3:51:18, 120.49s/it]"
          ]
        },
        {
          "name": "stdout",
          "output_type": "stream",
          "text": [
            "36/36 [==============================] - 73s 1s/step - loss: 0.2209 - accuracy: 0.9244 - precision: 0.9377 - recall: 0.9149 - f1: 0.9260\n",
            "36/36 [==============================] - 45s 968ms/step - loss: 0.1981 - accuracy: 0.9548 - precision: 0.9611 - recall: 0.9488 - f1: 0.9548\n"
          ]
        },
        {
          "name": "stderr",
          "output_type": "stream",
          "text": [
            "126it [3:53:21, 111.12s/it]\n"
          ]
        }
      ],
      "source": [
        "result = pd.DataFrame({'name':[], 'test_loss': [], 'test_accuracy': [], 'test_precision': [], 'test_recall': [], 'test_f1': [], 'vallidation_accurasy': []})\n",
        "\n",
        "for ansamble_name, model_names in tqdm(zip(ansambles, ansambles.values())):\n",
        "    ansamble_models = [models[name] for name in model_names]\n",
        "    ansamble = create_ansamble(ansamble_models)\n",
        "    test_loss, test_acc, test_pres, test_recall, test_f1 = ansamble.evaluate(test_dataset)\n",
        "    _, validation_acc, _, _, _ = ansamble.evaluate(validation_dataset)\n",
        "    result.loc[len(result)] = [ansamble_name, test_loss, test_acc, test_pres, test_recall, test_f1, validation_acc]"
      ]
    },
    {
      "cell_type": "code",
      "execution_count": null,
      "id": "2ac6520d-80d8-4261-a456-89fa2b1e0ee5",
      "metadata": {
        "id": "2ac6520d-80d8-4261-a456-89fa2b1e0ee5"
      },
      "outputs": [],
      "source": [
        "result.to_csv('./results.csv')"
      ]
    },
    {
      "cell_type": "code",
      "execution_count": null,
      "id": "fcdc966d",
      "metadata": {
        "papermill": {
          "duration": 0.66901,
          "end_time": "2023-02-16T03:03:39.274392",
          "exception": false,
          "start_time": "2023-02-16T03:03:38.605382",
          "status": "completed"
        },
        "tags": [],
        "id": "fcdc966d",
        "outputId": "a252487a-82f3-440f-a209-9e79f1a9e9b5"
      },
      "outputs": [
        {
          "data": {
            "text/html": [
              "<div>\n",
              "<style scoped>\n",
              "    .dataframe tbody tr th:only-of-type {\n",
              "        vertical-align: middle;\n",
              "    }\n",
              "\n",
              "    .dataframe tbody tr th {\n",
              "        vertical-align: top;\n",
              "    }\n",
              "\n",
              "    .dataframe thead th {\n",
              "        text-align: right;\n",
              "    }\n",
              "</style>\n",
              "<table border=\"1\" class=\"dataframe\">\n",
              "  <thead>\n",
              "    <tr style=\"text-align: right;\">\n",
              "      <th></th>\n",
              "      <th>name</th>\n",
              "      <th>test_loss</th>\n",
              "      <th>test_accuracy</th>\n",
              "      <th>test_precision</th>\n",
              "      <th>test_recall</th>\n",
              "      <th>test_f1</th>\n",
              "      <th>vallidation_accurasy</th>\n",
              "    </tr>\n",
              "  </thead>\n",
              "  <tbody>\n",
              "    <tr>\n",
              "      <th>0</th>\n",
              "      <td>Xception</td>\n",
              "      <td>0.249143</td>\n",
              "      <td>0.935111</td>\n",
              "      <td>0.942538</td>\n",
              "      <td>0.931424</td>\n",
              "      <td>0.936828</td>\n",
              "      <td>0.861739</td>\n",
              "    </tr>\n",
              "    <tr>\n",
              "      <th>1</th>\n",
              "      <td>DenseNet121</td>\n",
              "      <td>0.306656</td>\n",
              "      <td>0.876444</td>\n",
              "      <td>0.891850</td>\n",
              "      <td>0.870660</td>\n",
              "      <td>0.880900</td>\n",
              "      <td>0.926957</td>\n",
              "    </tr>\n",
              "    <tr>\n",
              "      <th>2</th>\n",
              "      <td>VGG16</td>\n",
              "      <td>0.483240</td>\n",
              "      <td>0.864889</td>\n",
              "      <td>0.866336</td>\n",
              "      <td>0.861632</td>\n",
              "      <td>0.863947</td>\n",
              "      <td>0.901739</td>\n",
              "    </tr>\n",
              "    <tr>\n",
              "      <th>3</th>\n",
              "      <td>ResNet50V2</td>\n",
              "      <td>0.401022</td>\n",
              "      <td>0.856000</td>\n",
              "      <td>0.862674</td>\n",
              "      <td>0.846875</td>\n",
              "      <td>0.854561</td>\n",
              "      <td>0.900870</td>\n",
              "    </tr>\n",
              "    <tr>\n",
              "      <th>4</th>\n",
              "      <td>InceptionResNetV2</td>\n",
              "      <td>0.514581</td>\n",
              "      <td>0.824889</td>\n",
              "      <td>0.837776</td>\n",
              "      <td>0.821181</td>\n",
              "      <td>0.829299</td>\n",
              "      <td>0.906087</td>\n",
              "    </tr>\n",
              "    <tr>\n",
              "      <th>...</th>\n",
              "      <td>...</td>\n",
              "      <td>...</td>\n",
              "      <td>...</td>\n",
              "      <td>...</td>\n",
              "      <td>...</td>\n",
              "      <td>...</td>\n",
              "      <td>...</td>\n",
              "    </tr>\n",
              "    <tr>\n",
              "      <th>121</th>\n",
              "      <td>Xception-DenseNet121-VGG16-ResNet50V2-MobileNe...</td>\n",
              "      <td>0.197147</td>\n",
              "      <td>0.950222</td>\n",
              "      <td>0.954361</td>\n",
              "      <td>0.934549</td>\n",
              "      <td>0.944258</td>\n",
              "      <td>0.955652</td>\n",
              "    </tr>\n",
              "    <tr>\n",
              "      <th>122</th>\n",
              "      <td>Xception-DenseNet121-VGG16-InceptionResNetV2-M...</td>\n",
              "      <td>0.207266</td>\n",
              "      <td>0.951111</td>\n",
              "      <td>0.961038</td>\n",
              "      <td>0.938889</td>\n",
              "      <td>0.949455</td>\n",
              "      <td>0.957391</td>\n",
              "    </tr>\n",
              "    <tr>\n",
              "      <th>123</th>\n",
              "      <td>Xception-DenseNet121-ResNet50V2-InceptionResNe...</td>\n",
              "      <td>0.213678</td>\n",
              "      <td>0.926222</td>\n",
              "      <td>0.935260</td>\n",
              "      <td>0.915451</td>\n",
              "      <td>0.924876</td>\n",
              "      <td>0.958261</td>\n",
              "    </tr>\n",
              "    <tr>\n",
              "      <th>124</th>\n",
              "      <td>Xception-VGG16-ResNet50V2-InceptionResNetV2-Mo...</td>\n",
              "      <td>0.209793</td>\n",
              "      <td>0.942222</td>\n",
              "      <td>0.954014</td>\n",
              "      <td>0.932292</td>\n",
              "      <td>0.942882</td>\n",
              "      <td>0.955652</td>\n",
              "    </tr>\n",
              "    <tr>\n",
              "      <th>125</th>\n",
              "      <td>DenseNet121-VGG16-ResNet50V2-InceptionResNetV2...</td>\n",
              "      <td>0.220935</td>\n",
              "      <td>0.924444</td>\n",
              "      <td>0.937688</td>\n",
              "      <td>0.914931</td>\n",
              "      <td>0.925981</td>\n",
              "      <td>0.954783</td>\n",
              "    </tr>\n",
              "  </tbody>\n",
              "</table>\n",
              "<p>126 rows × 7 columns</p>\n",
              "</div>"
            ],
            "text/plain": [
              "                                                  name  test_loss  \\\n",
              "0                                             Xception   0.249143   \n",
              "1                                          DenseNet121   0.306656   \n",
              "2                                                VGG16   0.483240   \n",
              "3                                           ResNet50V2   0.401022   \n",
              "4                                    InceptionResNetV2   0.514581   \n",
              "..                                                 ...        ...   \n",
              "121  Xception-DenseNet121-VGG16-ResNet50V2-MobileNe...   0.197147   \n",
              "122  Xception-DenseNet121-VGG16-InceptionResNetV2-M...   0.207266   \n",
              "123  Xception-DenseNet121-ResNet50V2-InceptionResNe...   0.213678   \n",
              "124  Xception-VGG16-ResNet50V2-InceptionResNetV2-Mo...   0.209793   \n",
              "125  DenseNet121-VGG16-ResNet50V2-InceptionResNetV2...   0.220935   \n",
              "\n",
              "     test_accuracy  test_precision  test_recall   test_f1  \\\n",
              "0         0.935111        0.942538     0.931424  0.936828   \n",
              "1         0.876444        0.891850     0.870660  0.880900   \n",
              "2         0.864889        0.866336     0.861632  0.863947   \n",
              "3         0.856000        0.862674     0.846875  0.854561   \n",
              "4         0.824889        0.837776     0.821181  0.829299   \n",
              "..             ...             ...          ...       ...   \n",
              "121       0.950222        0.954361     0.934549  0.944258   \n",
              "122       0.951111        0.961038     0.938889  0.949455   \n",
              "123       0.926222        0.935260     0.915451  0.924876   \n",
              "124       0.942222        0.954014     0.932292  0.942882   \n",
              "125       0.924444        0.937688     0.914931  0.925981   \n",
              "\n",
              "     vallidation_accurasy  \n",
              "0                0.861739  \n",
              "1                0.926957  \n",
              "2                0.901739  \n",
              "3                0.900870  \n",
              "4                0.906087  \n",
              "..                    ...  \n",
              "121              0.955652  \n",
              "122              0.957391  \n",
              "123              0.958261  \n",
              "124              0.955652  \n",
              "125              0.954783  \n",
              "\n",
              "[126 rows x 7 columns]"
            ]
          },
          "execution_count": 19,
          "metadata": {},
          "output_type": "execute_result"
        }
      ],
      "source": [
        "result"
      ]
    },
    {
      "cell_type": "code",
      "execution_count": null,
      "id": "3ace9917-ee55-4ed8-9969-0438fee55a27",
      "metadata": {
        "id": "3ace9917-ee55-4ed8-9969-0438fee55a27",
        "outputId": "69ecac80-9e6d-476a-ee48-87022b178912"
      },
      "outputs": [
        {
          "name": "stdout",
          "output_type": "stream",
          "text": [
            "The best model is: DenseNet121-InceptionResNetV2-MobileNetV2-EfficientNetB0\n"
          ]
        }
      ],
      "source": [
        "# find the best combination based on validation accuracy\n",
        "ind = result.vallidation_accurasy.argmax() # find the maximum validation accuracy !\n",
        "best_model = result.name.loc[ind]\n",
        "print(\"The best model is: {}\".format(best_model))"
      ]
    },
    {
      "cell_type": "markdown",
      "source": [],
      "metadata": {
        "id": "wQkOrEUoNTrK"
      },
      "id": "wQkOrEUoNTrK"
    },
    {
      "cell_type": "code",
      "execution_count": null,
      "id": "16ebf108-5f79-41f3-83c1-21cdfa69c5e4",
      "metadata": {
        "id": "16ebf108-5f79-41f3-83c1-21cdfa69c5e4",
        "outputId": "c4b2683f-93b4-4234-87f3-b64357ba267e"
      },
      "outputs": [
        {
          "name": "stdout",
          "output_type": "stream",
          "text": [
            "name                    DenseNet121-InceptionResNetV2-MobileNetV2-Effi...\n",
            "test_loss                                                        0.218126\n",
            "test_accuracy                                                        0.92\n",
            "test_precision                                                   0.928028\n",
            "test_recall                                                      0.917535\n",
            "test_f1                                                          0.922672\n",
            "vallidation_accurasy                                                 0.96\n",
            "Name: 92, dtype: object\n"
          ]
        }
      ],
      "source": [
        "# print test accuracy/loss for this model\n",
        "print(result.loc[ind])"
      ]
    },
    {
      "cell_type": "code",
      "execution_count": null,
      "id": "8c9ddd91-19e1-42fd-8ea7-c65343d75e0a",
      "metadata": {
        "id": "8c9ddd91-19e1-42fd-8ea7-c65343d75e0a"
      },
      "outputs": [],
      "source": [
        "# create the best ensamble model again\n",
        "ansamble_models = [models[name] for name in best_model.split(\"-\")]\n",
        "best_ansamble_model = create_ansamble(ansamble_models)\n",
        "# save this model\n",
        "best_ansamble_model.save('model_2.h5')"
      ]
    },
    {
      "cell_type": "code",
      "execution_count": null,
      "id": "b55fc1f1-b374-43f5-a3f2-d18a78d10eef",
      "metadata": {
        "id": "b55fc1f1-b374-43f5-a3f2-d18a78d10eef",
        "outputId": "7563d17f-1e64-4824-9228-a73342a8c5da"
      },
      "outputs": [
        {
          "name": "stdout",
          "output_type": "stream",
          "text": [
            "Model: \"model_263\"\n",
            "__________________________________________________________________________________________________\n",
            " Layer (type)                   Output Shape         Param #     Connected to                     \n",
            "==================================================================================================\n",
            " input_265 (InputLayer)         [(None, 224, 224, 3  0           []                               \n",
            "                                )]                                                                \n",
            "                                                                                                  \n",
            " DenseNet121 (Functional)       (None, 5)            7042629     ['input_265[0][0]']              \n",
            "                                                                                                  \n",
            " InceptionResNetV2 (Functional)  (None, 5)           54344421    ['input_265[0][0]']              \n",
            "                                                                                                  \n",
            " MobileNetV2 (Functional)       (None, 5)            2264389     ['input_265[0][0]']              \n",
            "                                                                                                  \n",
            " EfficientNetB0 (Functional)    (None, 5)            5925717     ['input_265[0][0]']              \n",
            "                                                                                                  \n",
            " average_241 (Average)          (None, 5)            0           ['DenseNet121[0][0]',            \n",
            "                                                                  'InceptionResNetV2[0][0]',      \n",
            "                                                                  'MobileNetV2[0][0]',            \n",
            "                                                                  'EfficientNetB0[0][0]']         \n",
            "                                                                                                  \n",
            "==================================================================================================\n",
            "Total params: 69,577,156\n",
            "Trainable params: 25,620\n",
            "Non-trainable params: 69,551,536\n",
            "__________________________________________________________________________________________________\n"
          ]
        }
      ],
      "source": [
        "# test saved model\n",
        "from tensorflow.keras.models import load_model\n",
        "loaded_model = load_model('model_2.h5', custom_objects={\"precision\": precision, 'recall': recall, 'f1': f1})\n",
        "loaded_model.summary()"
      ]
    },
    {
      "cell_type": "code",
      "execution_count": null,
      "id": "b856fc0c-994c-4c38-8553-de279b7a1461",
      "metadata": {
        "id": "b856fc0c-994c-4c38-8553-de279b7a1461"
      },
      "outputs": [],
      "source": []
    }
  ],
  "metadata": {
    "kernelspec": {
      "display_name": "Python 3 (ipykernel)",
      "language": "python",
      "name": "python3"
    },
    "language_info": {
      "codemirror_mode": {
        "name": "ipython",
        "version": 3
      },
      "file_extension": ".py",
      "mimetype": "text/x-python",
      "name": "python",
      "nbconvert_exporter": "python",
      "pygments_lexer": "ipython3",
      "version": "3.8.10"
    },
    "papermill": {
      "default_parameters": {},
      "duration": 20498.71623,
      "end_time": "2023-02-16T03:03:43.352434",
      "environment_variables": {},
      "exception": null,
      "input_path": "__notebook__.ipynb",
      "output_path": "__notebook__.ipynb",
      "parameters": {},
      "start_time": "2023-02-15T21:22:04.636204",
      "version": "2.3.4"
    },
    "colab": {
      "provenance": []
    }
  },
  "nbformat": 4,
  "nbformat_minor": 5
}